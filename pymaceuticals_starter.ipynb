{
 "cells": [
  {
   "cell_type": "markdown",
   "metadata": {},
   "source": [
    "# Pymaceuticals Inc.\n",
    "---\n",
    "\n",
    "### Analysis\n",
    "\n",
    "- Add your analysis here.\n",
    " "
   ]
  },
  {
   "cell_type": "code",
   "execution_count": 1,
   "metadata": {},
   "outputs": [
    {
     "data": {
      "text/html": [
       "<div>\n",
       "<style scoped>\n",
       "    .dataframe tbody tr th:only-of-type {\n",
       "        vertical-align: middle;\n",
       "    }\n",
       "\n",
       "    .dataframe tbody tr th {\n",
       "        vertical-align: top;\n",
       "    }\n",
       "\n",
       "    .dataframe thead th {\n",
       "        text-align: right;\n",
       "    }\n",
       "</style>\n",
       "<table border=\"1\" class=\"dataframe\">\n",
       "  <thead>\n",
       "    <tr style=\"text-align: right;\">\n",
       "      <th></th>\n",
       "      <th>Mouse ID</th>\n",
       "      <th>Drug Regimen</th>\n",
       "      <th>Sex</th>\n",
       "      <th>Age_months</th>\n",
       "      <th>Weight (g)</th>\n",
       "      <th>Timepoint</th>\n",
       "      <th>Tumor Volume (mm3)</th>\n",
       "      <th>Metastatic Sites</th>\n",
       "    </tr>\n",
       "  </thead>\n",
       "  <tbody>\n",
       "    <tr>\n",
       "      <th>0</th>\n",
       "      <td>k403</td>\n",
       "      <td>Ramicane</td>\n",
       "      <td>Male</td>\n",
       "      <td>21</td>\n",
       "      <td>16</td>\n",
       "      <td>0</td>\n",
       "      <td>45.000000</td>\n",
       "      <td>0</td>\n",
       "    </tr>\n",
       "    <tr>\n",
       "      <th>1</th>\n",
       "      <td>k403</td>\n",
       "      <td>Ramicane</td>\n",
       "      <td>Male</td>\n",
       "      <td>21</td>\n",
       "      <td>16</td>\n",
       "      <td>5</td>\n",
       "      <td>38.825898</td>\n",
       "      <td>0</td>\n",
       "    </tr>\n",
       "    <tr>\n",
       "      <th>2</th>\n",
       "      <td>k403</td>\n",
       "      <td>Ramicane</td>\n",
       "      <td>Male</td>\n",
       "      <td>21</td>\n",
       "      <td>16</td>\n",
       "      <td>10</td>\n",
       "      <td>35.014271</td>\n",
       "      <td>1</td>\n",
       "    </tr>\n",
       "    <tr>\n",
       "      <th>3</th>\n",
       "      <td>k403</td>\n",
       "      <td>Ramicane</td>\n",
       "      <td>Male</td>\n",
       "      <td>21</td>\n",
       "      <td>16</td>\n",
       "      <td>15</td>\n",
       "      <td>34.223992</td>\n",
       "      <td>1</td>\n",
       "    </tr>\n",
       "    <tr>\n",
       "      <th>4</th>\n",
       "      <td>k403</td>\n",
       "      <td>Ramicane</td>\n",
       "      <td>Male</td>\n",
       "      <td>21</td>\n",
       "      <td>16</td>\n",
       "      <td>20</td>\n",
       "      <td>32.997729</td>\n",
       "      <td>1</td>\n",
       "    </tr>\n",
       "  </tbody>\n",
       "</table>\n",
       "</div>"
      ],
      "text/plain": [
       "  Mouse ID Drug Regimen   Sex  Age_months  Weight (g)  Timepoint  \\\n",
       "0     k403     Ramicane  Male          21          16          0   \n",
       "1     k403     Ramicane  Male          21          16          5   \n",
       "2     k403     Ramicane  Male          21          16         10   \n",
       "3     k403     Ramicane  Male          21          16         15   \n",
       "4     k403     Ramicane  Male          21          16         20   \n",
       "\n",
       "   Tumor Volume (mm3)  Metastatic Sites  \n",
       "0           45.000000                 0  \n",
       "1           38.825898                 0  \n",
       "2           35.014271                 1  \n",
       "3           34.223992                 1  \n",
       "4           32.997729                 1  "
      ]
     },
     "execution_count": 1,
     "metadata": {},
     "output_type": "execute_result"
    }
   ],
   "source": [
    "# Dependencies and Setup\n",
    "import matplotlib.pyplot as plt\n",
    "import pandas as pd\n",
    "import scipy.stats as st\n",
    "import numpy as np\n",
    "\n",
    "# Study data files\n",
    "# Read the mouse data and the study results\n",
    "mousedata = pd.read_csv('/users/menard/desktop/Pymaceuticals-Challenge/Resources/Mouse_metadata.csv')\n",
    "studydata = pd.read_csv('/users/menard/desktop/Pymaceuticals-Challenge/Resources/Study_results.csv')\n",
    "\n",
    "# Combine the data into a single dataset\n",
    "data = pd.merge(mousedata,studydata, how='outer',on=['Mouse ID','Mouse ID'])\n",
    "\n",
    "# Display the data table for preview\n",
    "data.head()"
   ]
  },
  {
   "cell_type": "code",
   "execution_count": 2,
   "metadata": {},
   "outputs": [
    {
     "data": {
      "text/plain": [
       "249"
      ]
     },
     "execution_count": 2,
     "metadata": {},
     "output_type": "execute_result"
    }
   ],
   "source": [
    "# Checking the number of mice.\n",
    "uniqueid = data['Mouse ID'].value_counts()\n",
    "mousecount = len(uniqueid)\n",
    "mousecount"
   ]
  },
  {
   "cell_type": "code",
   "execution_count": 3,
   "metadata": {},
   "outputs": [
    {
     "data": {
      "text/plain": [
       "array(['g989'], dtype=object)"
      ]
     },
     "execution_count": 3,
     "metadata": {},
     "output_type": "execute_result"
    }
   ],
   "source": [
    "# Getting the duplicate mice by ID number that shows up for Mouse ID and Timepoint. \n",
    "# In order to get the duplicate by Mouse ID that shows up for Mouse ID and Timepoint\n",
    "# We will need to create a new dataframe that is referencing the merged data (data). From that merged\n",
    "# data we want to get the duplicate(s) that have similar mouse ID and timepoint. To do so, we will use\n",
    "# the loc function to specify the two columns. In reference to data we then want to get the duplicates\n",
    "# within the two columns that the loc function is referencing. \n",
    "\n",
    "# Note that the subset is close along with the duplicates function. The loc, is still open hence we \n",
    "# want to look at the unique Mouse ID's column within the Mouse ID column\n",
    "duplicates = data.loc[data.duplicated(subset=['Mouse ID', 'Timepoint']),'Mouse ID'].unique()\n",
    "duplicates"
   ]
  },
  {
   "cell_type": "code",
   "execution_count": 4,
   "metadata": {},
   "outputs": [
    {
     "data": {
      "text/html": [
       "<div>\n",
       "<style scoped>\n",
       "    .dataframe tbody tr th:only-of-type {\n",
       "        vertical-align: middle;\n",
       "    }\n",
       "\n",
       "    .dataframe tbody tr th {\n",
       "        vertical-align: top;\n",
       "    }\n",
       "\n",
       "    .dataframe thead th {\n",
       "        text-align: right;\n",
       "    }\n",
       "</style>\n",
       "<table border=\"1\" class=\"dataframe\">\n",
       "  <thead>\n",
       "    <tr style=\"text-align: right;\">\n",
       "      <th></th>\n",
       "      <th>Mouse ID</th>\n",
       "      <th>Drug Regimen</th>\n",
       "      <th>Sex</th>\n",
       "      <th>Age_months</th>\n",
       "      <th>Weight (g)</th>\n",
       "      <th>Timepoint</th>\n",
       "      <th>Tumor Volume (mm3)</th>\n",
       "      <th>Metastatic Sites</th>\n",
       "    </tr>\n",
       "  </thead>\n",
       "  <tbody>\n",
       "    <tr>\n",
       "      <th>908</th>\n",
       "      <td>g989</td>\n",
       "      <td>Propriva</td>\n",
       "      <td>Female</td>\n",
       "      <td>21</td>\n",
       "      <td>26</td>\n",
       "      <td>0</td>\n",
       "      <td>45.000000</td>\n",
       "      <td>0</td>\n",
       "    </tr>\n",
       "    <tr>\n",
       "      <th>909</th>\n",
       "      <td>g989</td>\n",
       "      <td>Propriva</td>\n",
       "      <td>Female</td>\n",
       "      <td>21</td>\n",
       "      <td>26</td>\n",
       "      <td>0</td>\n",
       "      <td>45.000000</td>\n",
       "      <td>0</td>\n",
       "    </tr>\n",
       "    <tr>\n",
       "      <th>910</th>\n",
       "      <td>g989</td>\n",
       "      <td>Propriva</td>\n",
       "      <td>Female</td>\n",
       "      <td>21</td>\n",
       "      <td>26</td>\n",
       "      <td>5</td>\n",
       "      <td>48.786801</td>\n",
       "      <td>0</td>\n",
       "    </tr>\n",
       "    <tr>\n",
       "      <th>911</th>\n",
       "      <td>g989</td>\n",
       "      <td>Propriva</td>\n",
       "      <td>Female</td>\n",
       "      <td>21</td>\n",
       "      <td>26</td>\n",
       "      <td>5</td>\n",
       "      <td>47.570392</td>\n",
       "      <td>0</td>\n",
       "    </tr>\n",
       "    <tr>\n",
       "      <th>912</th>\n",
       "      <td>g989</td>\n",
       "      <td>Propriva</td>\n",
       "      <td>Female</td>\n",
       "      <td>21</td>\n",
       "      <td>26</td>\n",
       "      <td>10</td>\n",
       "      <td>51.745156</td>\n",
       "      <td>0</td>\n",
       "    </tr>\n",
       "    <tr>\n",
       "      <th>913</th>\n",
       "      <td>g989</td>\n",
       "      <td>Propriva</td>\n",
       "      <td>Female</td>\n",
       "      <td>21</td>\n",
       "      <td>26</td>\n",
       "      <td>10</td>\n",
       "      <td>49.880528</td>\n",
       "      <td>0</td>\n",
       "    </tr>\n",
       "    <tr>\n",
       "      <th>914</th>\n",
       "      <td>g989</td>\n",
       "      <td>Propriva</td>\n",
       "      <td>Female</td>\n",
       "      <td>21</td>\n",
       "      <td>26</td>\n",
       "      <td>15</td>\n",
       "      <td>51.325852</td>\n",
       "      <td>1</td>\n",
       "    </tr>\n",
       "    <tr>\n",
       "      <th>915</th>\n",
       "      <td>g989</td>\n",
       "      <td>Propriva</td>\n",
       "      <td>Female</td>\n",
       "      <td>21</td>\n",
       "      <td>26</td>\n",
       "      <td>15</td>\n",
       "      <td>53.442020</td>\n",
       "      <td>0</td>\n",
       "    </tr>\n",
       "    <tr>\n",
       "      <th>916</th>\n",
       "      <td>g989</td>\n",
       "      <td>Propriva</td>\n",
       "      <td>Female</td>\n",
       "      <td>21</td>\n",
       "      <td>26</td>\n",
       "      <td>20</td>\n",
       "      <td>55.326122</td>\n",
       "      <td>1</td>\n",
       "    </tr>\n",
       "    <tr>\n",
       "      <th>917</th>\n",
       "      <td>g989</td>\n",
       "      <td>Propriva</td>\n",
       "      <td>Female</td>\n",
       "      <td>21</td>\n",
       "      <td>26</td>\n",
       "      <td>20</td>\n",
       "      <td>54.657650</td>\n",
       "      <td>1</td>\n",
       "    </tr>\n",
       "  </tbody>\n",
       "</table>\n",
       "</div>"
      ],
      "text/plain": [
       "    Mouse ID Drug Regimen     Sex  Age_months  Weight (g)  Timepoint  \\\n",
       "908     g989     Propriva  Female          21          26          0   \n",
       "909     g989     Propriva  Female          21          26          0   \n",
       "910     g989     Propriva  Female          21          26          5   \n",
       "911     g989     Propriva  Female          21          26          5   \n",
       "912     g989     Propriva  Female          21          26         10   \n",
       "913     g989     Propriva  Female          21          26         10   \n",
       "914     g989     Propriva  Female          21          26         15   \n",
       "915     g989     Propriva  Female          21          26         15   \n",
       "916     g989     Propriva  Female          21          26         20   \n",
       "917     g989     Propriva  Female          21          26         20   \n",
       "\n",
       "     Tumor Volume (mm3)  Metastatic Sites  \n",
       "908           45.000000                 0  \n",
       "909           45.000000                 0  \n",
       "910           48.786801                 0  \n",
       "911           47.570392                 0  \n",
       "912           51.745156                 0  \n",
       "913           49.880528                 0  \n",
       "914           51.325852                 1  \n",
       "915           53.442020                 0  \n",
       "916           55.326122                 1  \n",
       "917           54.657650                 1  "
      ]
     },
     "execution_count": 4,
     "metadata": {},
     "output_type": "execute_result"
    }
   ],
   "source": [
    "# Optional: Get all the data for the duplicate mouse ID. \n",
    "# NOTE that the output is 'array(['g989'], dtype=object)' rather than printing the rows and columns\n",
    "# this is because it is in a numpy array format. This is caused by the '.unique()' function that we\n",
    "# we used to get the duplicates. In order to show a simpler/much easier to read visual we will need\n",
    "# to convert the dataframe to pandas so pandas can create our visual for easier analysis.\n",
    "\n",
    "# The next steps in changing the format is to create a pandas dataframe and using the pd.DataFrame \n",
    "# method refrencing the numpy dataset from the duplicates\n",
    "\n",
    "dupe = pd.DataFrame(duplicates)\n",
    "dupe\n",
    "\n",
    "# In order to show all of the duplicates in pandas, we will need to create a mask which we will then\n",
    "# use to refrence in the original merged dataset to list all the values that equal the mask. The mask\n",
    "# will act as our boolean rather than doing a loop boolean throughout the whole dataframe.\n",
    "\n",
    "# Now that we converted 'dupe' to a pandas dataframe we will redefine the variable to list the number\n",
    "# of rows matches the mask.\n",
    "\n",
    "# We will reuse 'dupe' in referennce to the original merged dataframe (similar to the code above but\n",
    "# instead of stating which mouse ID is the dupe we want to list it). We want to look within the subset\n",
    "# or columns 'Mouse ID' and 'Timepoint' we want to keep = False because we want ALL the occurances\n",
    "# of duplicates that matches the mask to be returned.\n",
    "\n",
    "dupe = data[data.duplicated(subset=['Mouse ID', 'Timepoint'], keep=False)]\n",
    "# We are creating a mask to be our boolean when reading the 'Mouse ID' column.\n",
    "mask = 'g989'\n",
    "# The final step is to create a new dataframe in reference to dupe (which has our duplicates) and we\n",
    "# want to look into the column 'Mouse ID' within the dupe dataframe. We want to look into that specific\n",
    "# column to match our mask. If variables do match our mask then we want it to be listed. Hence the \n",
    "# 'keep=False'\n",
    "duplicate_data = dupe[dupe['Mouse ID'] == mask]\n",
    "duplicate_data"
   ]
  },
  {
   "cell_type": "code",
   "execution_count": 5,
   "metadata": {},
   "outputs": [],
   "source": [
    "# Create a clean DataFrame by dropping the duplicate mouse by its ID.\n",
    "# To remove the duplicates we would need to create a new dataframe.\n",
    "# The code below is saying, using the original merged csv's as reference (data) we want to look at\n",
    "# the 'Mouse ID' column within the original (data['Mouse ID']). The 'isin' method checks if the values\n",
    "# within the Mouse ID column are present within the duplicates (g989). The output will be a boolean \n",
    "# because it is either found in the Mouse ID column or not. We are using '==False' because we are \n",
    "# selecting the rows where values that are not in the duplicates dataset (g989). In shorter terms\n",
    "# the False is used to exclude the duplicate mouse IDs from the clean dataframe.\n",
    "cleaned = data[data['Mouse ID'].isin(duplicates)==False]"
   ]
  },
  {
   "cell_type": "code",
   "execution_count": 6,
   "metadata": {},
   "outputs": [
    {
     "data": {
      "text/plain": [
       "248"
      ]
     },
     "execution_count": 6,
     "metadata": {},
     "output_type": "execute_result"
    }
   ],
   "source": [
    "# Checking the number of mice in the clean DataFrame.\n",
    "clean = cleaned['Mouse ID'].value_counts()\n",
    "cleandf = len(clean)\n",
    "cleandf"
   ]
  },
  {
   "cell_type": "markdown",
   "metadata": {},
   "source": [
    "## Summary Statistics"
   ]
  },
  {
   "cell_type": "code",
   "execution_count": 7,
   "metadata": {},
   "outputs": [],
   "source": [
    "# Generate a summary statistics table of mean, median, variance, standard deviation, and SEM of the tumor volume for each regimen\n",
    "\n",
    "# Use groupby and summary statistical methods to calculate the following properties of each drug regimen: \n",
    "# mean, median, variance, standard deviation, and SEM of the tumor volume. \n",
    "# Assemble the resulting series into a single summary DataFrame.\n",
    "\n"
   ]
  },
  {
   "cell_type": "code",
   "execution_count": 8,
   "metadata": {},
   "outputs": [
    {
     "data": {
      "text/plain": [
       "Drug Regimen\n",
       "Capomulin    0.329346\n",
       "Ceftamin     0.469821\n",
       "Infubinol    0.492236\n",
       "Ketapril     0.603860\n",
       "Naftisol     0.596466\n",
       "Placebo      0.581331\n",
       "Propriva     0.544332\n",
       "Ramicane     0.320955\n",
       "Stelasyn     0.573111\n",
       "Zoniferol    0.516398\n",
       "Name: Tumor Volume (mm3), dtype: float64"
      ]
     },
     "execution_count": 8,
     "metadata": {},
     "output_type": "execute_result"
    }
   ],
   "source": [
    "# Generate a summary statistics table of mean, median, variance, standard deviation, \n",
    "# and SEM of the tumor volume for each regimen\n",
    "\n",
    "# Using the aggregation method, produce the same summary statistics in a single line.\n",
    "\n",
    "# Use groupby and summary statistical methods to calculate the following properties of each drug regimen: \n",
    "# mean, median, variance, standard deviation, and SEM of the tumor volume. \n",
    "# Assemble the resulting series into a single summary DataFrame.\n",
    "\n",
    "# To generate a summary statistic table of the measures of tendencies we first need to start backwards,\n",
    "# in order to create the measures of tendecies for the Tumor Volume we would need to first group the\n",
    "# dataset by 'Drug Regimen' which are the drugs used and the text we will see within the table and the\n",
    "# statistical measures will be the 'Tumor Volume. This is laying the ground (defining variables) in \n",
    "# creating a table\n",
    "\n",
    "# Only downside for this is that it will only print out the last code which is SEM.\n",
    "groupavg = cleaned.groupby('Drug Regimen').mean()['Tumor Volume (mm3)']\n",
    "groupavg\n",
    "\n",
    "groupmed = cleaned.groupby('Drug Regimen').median()['Tumor Volume (mm3)']\n",
    "groupmed\n",
    "\n",
    "groupvar = cleaned.groupby('Drug Regimen').var()['Tumor Volume (mm3)']\n",
    "groupvar\n",
    "\n",
    "groupstd = cleaned.groupby('Drug Regimen').std()['Tumor Volume (mm3)']\n",
    "groupstd\n",
    "\n",
    "groupsem = cleaned.groupby('Drug Regimen').sem()['Tumor Volume (mm3)']\n",
    "groupsem"
   ]
  },
  {
   "cell_type": "code",
   "execution_count": 9,
   "metadata": {},
   "outputs": [
    {
     "data": {
      "text/html": [
       "<div>\n",
       "<style scoped>\n",
       "    .dataframe tbody tr th:only-of-type {\n",
       "        vertical-align: middle;\n",
       "    }\n",
       "\n",
       "    .dataframe tbody tr th {\n",
       "        vertical-align: top;\n",
       "    }\n",
       "\n",
       "    .dataframe thead th {\n",
       "        text-align: right;\n",
       "    }\n",
       "</style>\n",
       "<table border=\"1\" class=\"dataframe\">\n",
       "  <thead>\n",
       "    <tr style=\"text-align: right;\">\n",
       "      <th></th>\n",
       "      <th>mean</th>\n",
       "      <th>median</th>\n",
       "      <th>var</th>\n",
       "      <th>std</th>\n",
       "      <th>sem</th>\n",
       "    </tr>\n",
       "    <tr>\n",
       "      <th>Drug Regimen</th>\n",
       "      <th></th>\n",
       "      <th></th>\n",
       "      <th></th>\n",
       "      <th></th>\n",
       "      <th></th>\n",
       "    </tr>\n",
       "  </thead>\n",
       "  <tbody>\n",
       "    <tr>\n",
       "      <th>Capomulin</th>\n",
       "      <td>40.675741</td>\n",
       "      <td>41.557809</td>\n",
       "      <td>24.947764</td>\n",
       "      <td>4.994774</td>\n",
       "      <td>0.329346</td>\n",
       "    </tr>\n",
       "    <tr>\n",
       "      <th>Ceftamin</th>\n",
       "      <td>52.591172</td>\n",
       "      <td>51.776157</td>\n",
       "      <td>39.290177</td>\n",
       "      <td>6.268188</td>\n",
       "      <td>0.469821</td>\n",
       "    </tr>\n",
       "    <tr>\n",
       "      <th>Infubinol</th>\n",
       "      <td>52.884795</td>\n",
       "      <td>51.820584</td>\n",
       "      <td>43.128684</td>\n",
       "      <td>6.567243</td>\n",
       "      <td>0.492236</td>\n",
       "    </tr>\n",
       "    <tr>\n",
       "      <th>Ketapril</th>\n",
       "      <td>55.235638</td>\n",
       "      <td>53.698743</td>\n",
       "      <td>68.553577</td>\n",
       "      <td>8.279709</td>\n",
       "      <td>0.603860</td>\n",
       "    </tr>\n",
       "    <tr>\n",
       "      <th>Naftisol</th>\n",
       "      <td>54.331565</td>\n",
       "      <td>52.509285</td>\n",
       "      <td>66.173479</td>\n",
       "      <td>8.134708</td>\n",
       "      <td>0.596466</td>\n",
       "    </tr>\n",
       "    <tr>\n",
       "      <th>Placebo</th>\n",
       "      <td>54.033581</td>\n",
       "      <td>52.288934</td>\n",
       "      <td>61.168083</td>\n",
       "      <td>7.821003</td>\n",
       "      <td>0.581331</td>\n",
       "    </tr>\n",
       "    <tr>\n",
       "      <th>Propriva</th>\n",
       "      <td>52.320930</td>\n",
       "      <td>50.446266</td>\n",
       "      <td>43.852013</td>\n",
       "      <td>6.622085</td>\n",
       "      <td>0.544332</td>\n",
       "    </tr>\n",
       "    <tr>\n",
       "      <th>Ramicane</th>\n",
       "      <td>40.216745</td>\n",
       "      <td>40.673236</td>\n",
       "      <td>23.486704</td>\n",
       "      <td>4.846308</td>\n",
       "      <td>0.320955</td>\n",
       "    </tr>\n",
       "    <tr>\n",
       "      <th>Stelasyn</th>\n",
       "      <td>54.233149</td>\n",
       "      <td>52.431737</td>\n",
       "      <td>59.450562</td>\n",
       "      <td>7.710419</td>\n",
       "      <td>0.573111</td>\n",
       "    </tr>\n",
       "    <tr>\n",
       "      <th>Zoniferol</th>\n",
       "      <td>53.236507</td>\n",
       "      <td>51.818479</td>\n",
       "      <td>48.533355</td>\n",
       "      <td>6.966589</td>\n",
       "      <td>0.516398</td>\n",
       "    </tr>\n",
       "  </tbody>\n",
       "</table>\n",
       "</div>"
      ],
      "text/plain": [
       "                   mean     median        var       std       sem\n",
       "Drug Regimen                                                     \n",
       "Capomulin     40.675741  41.557809  24.947764  4.994774  0.329346\n",
       "Ceftamin      52.591172  51.776157  39.290177  6.268188  0.469821\n",
       "Infubinol     52.884795  51.820584  43.128684  6.567243  0.492236\n",
       "Ketapril      55.235638  53.698743  68.553577  8.279709  0.603860\n",
       "Naftisol      54.331565  52.509285  66.173479  8.134708  0.596466\n",
       "Placebo       54.033581  52.288934  61.168083  7.821003  0.581331\n",
       "Propriva      52.320930  50.446266  43.852013  6.622085  0.544332\n",
       "Ramicane      40.216745  40.673236  23.486704  4.846308  0.320955\n",
       "Stelasyn      54.233149  52.431737  59.450562  7.710419  0.573111\n",
       "Zoniferol     53.236507  51.818479  48.533355  6.966589  0.516398"
      ]
     },
     "execution_count": 9,
     "metadata": {},
     "output_type": "execute_result"
    }
   ],
   "source": [
    "summary = pd.DataFrame({\"Mean\": groupavg,\n",
    "                       \"Median\": groupmed,\n",
    "                       \"Variance\": groupvar,\n",
    "                       \"Standard Deviation\": groupstd,\n",
    "                       \"Standard Error\": groupsem})\n",
    "summary\n",
    "\n",
    "# We are grouping the dataset by the 'Drug Regimen' column and we want to apply the measures of \n",
    "# tendencies for the 'Tumor Volume (mm3)'. Once we have the groundwork we then want to use the\n",
    "#'agg' method. This method calculates the specified statistics per group and returns the results as \n",
    "# dataframe in reference to the index (['Tumor Volume'])\n",
    "# NOTE: the 'Tumor Volume' is inside brackets because we want to use that column as our index, while\n",
    "# we group the two by 'Drug Regimen'. This not only looks cleaner but makes it the dataset easier to visualize.\n",
    "summary_stats = cleaned.groupby('Drug Regimen')['Tumor Volume (mm3)'].agg(['mean','median','var','std','sem'])\n",
    "summary_stats"
   ]
  },
  {
   "cell_type": "markdown",
   "metadata": {},
   "source": [
    "## Bar and Pie Charts"
   ]
  },
  {
   "cell_type": "code",
   "execution_count": 10,
   "metadata": {},
   "outputs": [
    {
     "data": {
      "image/png": "[encoded data removed]",
      "text/plain": [
       "<Figure size 432x432 with 1 Axes>"
      ]
     },
     "metadata": {
      "needs_background": "light"
     },
     "output_type": "display_data"
    }
   ],
   "source": [
    "# Generate a bar plot showing the total number of timepoints for all mice tested for each drug regimen using Pandas.\n",
    "\n",
    "# Generate a bar plot showing the total number of timepoints for all mice tested for each drug \n",
    "# regimen using Pandas.\n",
    "\n",
    "# In order to do what is being asked. We first need to get the total number of mice within the dataset\n",
    "# to do this we will create a new dataframe to hold the number of mice. We are grouping the number of \n",
    "# mice with the drug regimen because we want to see how many mice has been under x drug regimen.\n",
    "# Therefore, we will reference the orginal merged dataset (data) and group the count of unique mice ID with \n",
    "# the drug regimen (.groupby['Drug Regimen'].count()['Mouse ID'])\n",
    "micetestpd = data.groupby(['Drug Regimen']).count()['Mouse ID']\n",
    "# Once that we have grouped the number of mice per drug regimen we can now plot the bar graph. \n",
    "# We want to plot the micetest dataframe (# of mic per regimen) into a bar graph (plot.bar) with a \n",
    "# size of (6,6), color = blue and font size of 12\n",
    "miceplot = micetestpd.plot.bar(figsize = (6,6), color='b', fontsize=12)\n",
    "# Once plotted we then want to put in our labels with the desired font.\n",
    "plt.xlabel('Drug Regimen', fontsize=12)\n",
    "plt.ylabel('Number of Mice', fontsize=12)\n",
    "plt.title('Number of Mice Per Treatment', fontsize=16)\n",
    "\n",
    "plt.tight_layout()\n",
    "plt.show\n",
    "# For more details we will print out the number of mice per regimen.\n",
    "micetestpd\n",
    "\n",
    "plt.savefig('/users/menard/desktop/Pymaceuticals-Challenge/Images/Number Of Mice Per Treatment Pandas.png', bbox_incehs='tight')"
   ]
  },
  {
   "cell_type": "code",
   "execution_count": 11,
   "metadata": {},
   "outputs": [
    {
     "data": {
      "text/plain": [
       "[230, 178, 178, 188, 186, 181, 161, 228, 181, 182]"
      ]
     },
     "execution_count": 11,
     "metadata": {},
     "output_type": "execute_result"
    }
   ],
   "source": [
    "# Generate a bar plot showing the total number of timepoints for all mice tested for each drug regimen using pyplot.\n",
    "# In order to use pyplot we must turn our dataframe into a list. In doing so we will create a new dataframe\n",
    "# in reference to the original merged dataframe and the number of mice with the drug regimen. We will\n",
    "# then use the 'tolist' function to convert it into a list\n",
    "\n",
    "micetestplt = (data.groupby(['Drug Regimen'])['Mouse ID'].count()).tolist()\n",
    "micetestplt\n",
    "\n",
    "# NOTE that the same values as above is showing below. This is because we are just converting the \n",
    "# mousetestpd into a list for graphing using pyplot. Think of this as a verification that the numbers \n",
    "# below are the same as above for accuracy."
   ]
  },
  {
   "cell_type": "code",
   "execution_count": 12,
   "metadata": {},
   "outputs": [
    {
     "data": {
      "image/png": "[encoded data removed]",
      "text/plain": [
       "<Figure size 576x576 with 1 Axes>"
      ]
     },
     "metadata": {
      "needs_background": "light"
     },
     "output_type": "display_data"
    }
   ],
   "source": [
    "# Generate a bar plot showing the total number of timepoints for all mice tested for each drug \n",
    "# regimen using pyplot.\n",
    "\n",
    "# Similar concept as above just a bit different. We want to set our x-axis the legnth of how many\n",
    "# integers the list (miceplt) has.\n",
    "xaxis = np.arange(len(micetestplt))\n",
    "# We HAVE to make a fig, statement because if we don't it will overwrite and rewrite the chart above\n",
    "# We don't want that as it is measuring the same thing and will have the same results. We are using a \n",
    "# different method. We will use subplots and configure our figure size for our pyplot chart.\n",
    "fig1, chart1=plt.subplots(figsize=(8,8))\n",
    "# We then want to do a bar graph with the x axis being the number of integers are within the micetesplt\n",
    "# list, our y-axis will be the number of mice which is 'micetestplt', color is set to red and aligned\n",
    "# in the center.\n",
    "plt.bar(xaxis, micetestplt, color='r', align='center')\n",
    "\n",
    "# Once we have our plot, we then want to add the finishing touches. That being the tick marks, rotation\n",
    "# labels and the amount of space to make the chart less crowded.\n",
    "# NOTE that if we leave the x-axis to just be the length it will only show up as numbers vs the text\n",
    "# in which which drug regimen was used. To bypass this we will have to individually name the drugs listed\n",
    "# BE CAREFUL AS THE NAMING SHOULD BE THE SAME AS THE RESULTS SHOWN ABOVE.\n",
    "chart1.set_xticks(xaxis)\n",
    "chart1.set_xticklabels(['Capomulin','Ceftamin','Infubinol','Ketapril','Naftisol','Placebo','Propriva',\n",
    "'Ramicane','Stelasyn','Zoniferol'],fontsize = 8, rotation=90)\n",
    "# Plotting our limits so the chart can fit within the given space\n",
    "plt.xlim(-0.75,len(xaxis)-.25)\n",
    "plt.ylim(0,max(micetestplt)+10)\n",
    "# Lastly, labeling the axis and title\n",
    "plt.title('Number of Mice Per Treatment',fontsize=15)\n",
    "plt.xlabel('Drug Regimen',fontsize=10)\n",
    "plt.ylabel('Number of Mice',fontsize=10)\n",
    "\n",
    "plt.savefig('/users/menard/desktop/Pymaceuticals-Challenge/Images/Number Of Mice Per Treatment PyPlot.png', bbox_incehs='tight')"
   ]
  },
  {
   "cell_type": "code",
   "execution_count": 13,
   "metadata": {},
   "outputs": [
    {
     "data": {
      "text/html": [
       "<div>\n",
       "<style scoped>\n",
       "    .dataframe tbody tr th:only-of-type {\n",
       "        vertical-align: middle;\n",
       "    }\n",
       "\n",
       "    .dataframe tbody tr th {\n",
       "        vertical-align: top;\n",
       "    }\n",
       "\n",
       "    .dataframe thead th {\n",
       "        text-align: right;\n",
       "    }\n",
       "</style>\n",
       "<table border=\"1\" class=\"dataframe\">\n",
       "  <thead>\n",
       "    <tr style=\"text-align: right;\">\n",
       "      <th></th>\n",
       "      <th>Total Count</th>\n",
       "      <th>Sex Percentage</th>\n",
       "    </tr>\n",
       "    <tr>\n",
       "      <th>Sex</th>\n",
       "      <th></th>\n",
       "      <th></th>\n",
       "    </tr>\n",
       "  </thead>\n",
       "  <tbody>\n",
       "    <tr>\n",
       "      <th>Female</th>\n",
       "      <td>124</td>\n",
       "      <td>49.799197</td>\n",
       "    </tr>\n",
       "    <tr>\n",
       "      <th>Male</th>\n",
       "      <td>125</td>\n",
       "      <td>50.200803</td>\n",
       "    </tr>\n",
       "  </tbody>\n",
       "</table>\n",
       "</div>"
      ],
      "text/plain": [
       "        Total Count  Sex Percentage\n",
       "Sex                                \n",
       "Female          124       49.799197\n",
       "Male            125       50.200803"
      ]
     },
     "execution_count": 13,
     "metadata": {},
     "output_type": "execute_result"
    }
   ],
   "source": [
    "# Generate a pie plot showing the distribution of female versus male mice using Pandas\n",
    "\n",
    "# In order to generate a pi chart we first need to convert the values to percentages. But before we can\n",
    "# convert them into percentages we first must group the columns (Think of it a organizeing and putting\n",
    "# values within the correct space/column)\n",
    "\n",
    "# We want to create a new dataframe for our pi chart to determine the distribution of male and female\n",
    "# mice within the study. Therefore we will group the mouse ID (which will be our count) nd sex (wich\n",
    "# will be our categories)\n",
    "gendertestpd = data.groupby(['Mouse ID','Sex'])\n",
    "# Once the group has been defined we will then create a new dataframe off of that group. The 'size()'\n",
    "# method returns the number of elements in the group. This gives the count of the number of times\n",
    "# each unique combination of values in the columns Mouse ID and Sex (Since mouse id has a unique\n",
    "# identifyer it will count each instance a unique row appears).\n",
    "gendertestdf = pd.DataFrame(gendertestpd.size())\n",
    "# After getting the count of unique sex within the orginal merged data we will then use that to create\n",
    "# a new dataframe to get the count of the number of occureances each value in the sex column.\n",
    "# NOTE that the 'gendertestdf = pd.DataFrame(gendertestpd.size())' may sound and look similar to the\n",
    "# code below, the difference is. The code above gives us the count of all entries in the 'genertestpd'\n",
    "# dataframe. We are basically working down the pyramid. The code below gives us the count of each\n",
    "# unique value in the sex column which are male and female (being more specific basically)\n",
    "gender = pd.DataFrame(gendertestdf.groupby(['Sex']).count())\n",
    "# The code below is basically changing the name of the only column wihtin the gender dataframe to\n",
    "# 'Total Count'\n",
    "gender.columns = ['Total Count']\n",
    "# Now that the groundwork has been set time for the calculation. We first start by adding a new\n",
    "# column within our dataframe and calculating the percentage by getting the total count and dividing\n",
    "# that by the sum of the two categories and multiplying by 100 to get a float number which can be\n",
    "# read as a percentage.\n",
    "gender['Sex Percentage'] = (100*gender['Total Count']/gender['Total Count'].sum())\n",
    "\n",
    "gender"
   ]
  },
  {
   "cell_type": "code",
   "execution_count": 14,
   "metadata": {},
   "outputs": [
    {
     "data": {
      "image/png": "[encoded data removed]",
      "text/plain": [
       "<Figure size 576x576 with 1 Axes>"
      ]
     },
     "metadata": {},
     "output_type": "display_data"
    },
    {
     "data": {
      "text/plain": [
       "<Figure size 432x288 with 0 Axes>"
      ]
     },
     "metadata": {},
     "output_type": "display_data"
    }
   ],
   "source": [
    "# Generate a pie plot showing the distribution of female versus male mice using Pandas\n",
    "\n",
    "#For this block of code we are first defining our colors and how much room should the gap be from one\n",
    "# another when plotting the pie chart.\n",
    "colors = ['orange','yellow']\n",
    "explode = [0.1,0]\n",
    "# Using gender as our dataframe reference we want to plot it in a pie chart. Having our y axis be the \n",
    "# 'Total Count' column within the dataframe. Configuring our figure size, color, explosion measurements\n",
    "# starangle being the rotation of our pie chart, and autopct=%1.1f%% formatting our number to a percentage\n",
    "# %1.1f is saying to format the number in one decimal place as a float with %% being the percentage \n",
    "# symbole at the end\n",
    "plot = gender.plot.pie(y='Total Count', figsize=(8,8), colors=colors, startangle=160, explode=explode, autopct='%1.1f%%')\n",
    "\n",
    "plt.title('Number of Male vs Female Mice Tested')\n",
    "plt.ylabel('Sex',fontsize=12)\n",
    "plt.legend(title='Gender',loc='best')\n",
    "\n",
    "plt.show()\n",
    "plt.savefig('/users/menard/desktop/Pymaceuticals-Challenge/Images/Number Of Male vs Female Mice Tested Pandas.png', bbox_incehs='tight')"
   ]
  },
  {
   "cell_type": "code",
   "execution_count": 15,
   "metadata": {},
   "outputs": [
    {
     "data": {
      "image/png": "[encoded data removed]",
      "text/plain": [
       "<Figure size 576x576 with 1 Axes>"
      ]
     },
     "metadata": {},
     "output_type": "display_data"
    },
    {
     "data": {
      "text/plain": [
       "<Figure size 432x288 with 0 Axes>"
      ]
     },
     "metadata": {},
     "output_type": "display_data"
    }
   ],
   "source": [
    "# Generate a pie plot showing the distribution of female versus male mice using pyplot\n",
    "\n",
    "# The only difference in platting it with pyplot is we have to define our variables.\n",
    "# ONE KEY THING TO NOTE HERE is that to be sure to index match, if male goes first then put the male\n",
    "# number first in popsize and so on.\n",
    "labels = ['Male','Female']\n",
    "popsize = [50.200803,49.799197]\n",
    "colors = ['red','orange']\n",
    "explode = (0.1,0)\n",
    "# Similar to the code prior, we don't want to overwrite the prior pie chart, therefore we have to use\n",
    "# subplots to create a new chart.\n",
    "fig2, chart2 = plt.subplots(figsize=(8,8))\n",
    "# For matplotlib, you just need to plug things in compared to pandas you need to define what the y axis\n",
    "# will show. Everything is equal to the words because we have defined it earlier within this block\n",
    "# od code.\n",
    "plt.pie(popsize, explode=explode, labels=labels, colors=colors, autopct='%1.1f%%', startangle=160)\n",
    "plt.title('Numer of Male vs Female Mice Tested')\n",
    "plt.ylabel('Sex',fontsize=12)\n",
    "\n",
    "plt.legend(title='Gender',loc='best')\n",
    "\n",
    "\n",
    "plt.show()\n",
    "plt.savefig('/users/menard/desktop/Pymaceuticals-Challenge/Images/Number Of Male vs Female Mice Tested PyPlot.png', bbox_incehs='tight')"
   ]
  },
  {
   "cell_type": "markdown",
   "metadata": {},
   "source": [
    "## Quartiles, Outliers and Boxplots"
   ]
  },
  {
   "cell_type": "code",
   "execution_count": 16,
   "metadata": {},
   "outputs": [],
   "source": [
    "# Calculate the final tumor volume of each mouse across four of the treatment regimens:  \n",
    "# Capomulin, Ramicane, Infubinol, and Ceftamin\n",
    "\n",
    "# Start by getting the last (greatest) timepoint for each mouse\n",
    "\n",
    "# Merge this group df with the original DataFrame to get the tumor volume at the last timepoint\n"
   ]
  },
  {
   "cell_type": "code",
   "execution_count": 17,
   "metadata": {},
   "outputs": [
    {
     "name": "stdout",
     "output_type": "stream",
     "text": [
      "Capomulin Regimen\n",
      "The tumor volume for Capomulin below 20.7 are outliers.\n",
      "The tumor volume for Capomulin above 51.83 are outliers.\n",
      "The Average tumor volume for Capomulin is: 36.67\n",
      "Number of outliers for Capomulin is 0\n",
      "-------------------------------------------------------------\n",
      "Ramicane Regimen\n",
      "The tumor volume for Ramicane below 17.91 are outliers.\n",
      "The tumor volume for Ramicane above 54.31 are outliers.\n",
      "The Average tumor volume for Ramicane is: 36.19\n",
      "Number of outliers for Capomulin is 0\n",
      "-------------------------------------------------------------\n",
      "Infubinol Regimen\n",
      "The tumor volume for Infubinol below 36.83 are outliers.\n",
      "The tumor volume for Infubinol above 82.74 are outliers.\n",
      "The Average tumor volume for Infubinol is: 58.18\n",
      "Number of outliers for Capomulin is 1\n",
      "Outlying tumor volume is 36.32\n",
      "-------------------------------------------------------------\n",
      "Ceftamin Regimen\n",
      "The tumor volume for Ceftamin below 25.36 are outliers.\n",
      "The tumor volume for Ceftamin above 87.67 are outliers.\n",
      "The Average tumor volume for Ceftamin is: 57.75\n",
      "Number of outliers for Capomulin is 0\n",
      "-------------------------------------------------------------\n"
     ]
    }
   ],
   "source": [
    "# Put treatments into a list for for loop (and later for plot labels)\n",
    "# Create empty list to fill with tumor vol data (for plotting)\n",
    "# Calculate the IQR and quantitatively determine if there are any potential outliers. \n",
    "    # Locate the rows which contain mice on each drug and get the tumor volumes\n",
    "    # add subset \n",
    "    # Determine outliers using upper and lower bounds\n",
    "    \n",
    "# To begin,we must first group the data nby column. To do this, we will referece the orginal merged dataframe since most of the\n",
    "# information is there. We will group 'Drug Regumen' and 'Mouse ID'. We are using the the '.last()' method because there are\n",
    "# iterations within the dataset that repeats the same Mouse ID per drug. The tumor count will contain the last observation of\n",
    "# each mouse that recieved each of the drugs. \n",
    "# NOTE THAT THE '.last()' METHOD IS NOT TOWARDS 'Drug Regimen' and 'Mouse ID' rather 'Timepoint' and 'Tumor Volume (mm3)'\n",
    "\n",
    "tumorcount = data.groupby(['Drug Regimen', 'Mouse ID']).last()[['Timepoint','Tumor Volume (mm3)']]\n",
    "# To make plotting easier, we will reset the index to be unique to the grouped index vs the original\n",
    "tumordf = tumorcount.reset_index()\n",
    "\n",
    "# In order to calculate the final tumor volume we must first state our main drugs that were used within the study. \n",
    "drugs = ['Capomulin', 'Ramicane', 'Infubinol', 'Ceftamin']\n",
    "# Next, we will create a placeholder for the tumor volume values for each of the drugs. By doing this we can loop through each\n",
    "# dataset and do some configurations on the 'Tumor Volume' data for our desired drug within the list.\n",
    "tumorlist = []\n",
    "\n",
    "# Now for our loop, the code below is saying. We will loop through each drug within the 'drugs' data and retrieving the tumor\n",
    "# Volume for each drug within the 'tumordf' dataframe.\n",
    "# In simpler terms. If the drug loop matches one of the drugs within our drug list, then retrieve the tumor volume.\n",
    "for drug in drugs:\n",
    "    tumorcount = tumordf.loc[tumordf['Drug Regimen'] == drug, 'Tumor Volume (mm3)']\n",
    "    # If we get a match we then want to place that retrieved data into our list.\n",
    "    tumorlist.append(tumorcount)\n",
    "    # For analysis we will create our quantiles for each time the drug appears within the loop.\n",
    "    quartiles = tumorcount.quantile([0.25,0.5,0.75])\n",
    "    tumorlowquart = quartiles[0.25]\n",
    "    tumorupquart = quartiles[0.75]\n",
    "    tumoriqr = tumorupquart - tumorlowquart\n",
    "    # Remember that the lower we want to subtract because we want that extra gap to capture data that fall outside of the \n",
    "    # normal measure of tendency. The same concept also applies to the higher bound.\n",
    "    mean = tumorcount.mean()\n",
    "    tumorlow = tumorlowquart - (1.5*tumoriqr)\n",
    "    tumorhigh = tumorupquart + (1.5*tumoriqr)\n",
    "    # Once the quartiles are defined we can now identify the outliers. The code below is going to identify any outliers within\n",
    "    # the tumor volume data. In this case values that are less than than the lower bound or high than the upper bound.\n",
    "    outliers = tumorcount.loc[(tumorcount < tumorlow) | (tumorcount > tumorhigh)]\n",
    "    # Lastly, we then want to input all the information into a string by using f-string codes. The print below is basically going\n",
    "    # to print each drug's statistical data as it loops through each row per drug. \n",
    "    print(f\"{drug} Regimen\")\n",
    "    print(f\"The tumor volume for {drug} below {round(tumorlow,2)} are outliers.\")\n",
    "    print(f\"The tumor volume for {drug} above {round(tumorhigh,2)} are outliers.\")\n",
    "    print(f\"The Average tumor volume for {drug} is: {round(mean,2)}\")\n",
    "    # NOTE that we are hardcoding capomulin rather than inputting the '{drug}' syntax because it is the drug we are interested in\n",
    "    # looking at per set loop of each drug.\n",
    "    print(f\"Number of outliers for Capomulin is {outliers.count()}\")\n",
    "    # We are going to do another loop for outliers to check if there are any outliers within the tumorcount (per drug as a whole)\n",
    "    # If there are outliers, the code then loops through each outlier value, retrieves the value and rounds it by 2 decimal \n",
    "    # places. The dashes is for each iteration complete it will separate by '-------------------------'\n",
    "    # If there are outliers present it will then print the individual tumor volume values for each outlier.\n",
    "    if outliers.count() > 0:\n",
    "        for i in outliers.index:\n",
    "            print(f'Outlying tumor volume is {round(outliers[i],2)}')\n",
    "    print('-------------------------------------------------------------')"
   ]
  },
  {
   "cell_type": "code",
   "execution_count": 18,
   "metadata": {},
   "outputs": [
    {
     "data": {
      "image/png": "[encoded data removed]",
      "text/plain": [
       "<Figure size 432x288 with 1 Axes>"
      ]
     },
     "metadata": {
      "needs_background": "light"
     },
     "output_type": "display_data"
    },
    {
     "data": {
      "text/plain": [
       "<Figure size 432x288 with 0 Axes>"
      ]
     },
     "metadata": {},
     "output_type": "display_data"
    }
   ],
   "source": [
    "# Generate a box plot that shows the distrubution of the tumor volume for each treatment group.\n",
    "\n",
    "fig3, chart3 = plt.subplots()\n",
    "chart3.boxplot(tumorlist, labels=drugs, flierprops={'markerfacecolor':'r','markersize':8})\n",
    "\n",
    "chart3.set_title('Tumor Volume Per Drug Regimen',fontweight='bold')\n",
    "chart3.set_xlabel('Drugs Used', fontweight='bold')\n",
    "chart3.set_ylabel('Final Tumor Volume (mm3)',fontweight='bold')\n",
    "\n",
    "plt.tight_layout()\n",
    "plt.show()\n",
    "\n",
    "plt.savefig('/users/menard/desktop/Pymaceuticals-Challenge/Images/Tumor Volume Per Drug Regimen.png', bbox_incehs='tight')"
   ]
  },
  {
   "cell_type": "markdown",
   "metadata": {},
   "source": [
    "## Line and Scatter Plots"
   ]
  },
  {
   "cell_type": "code",
   "execution_count": 19,
   "metadata": {},
   "outputs": [
    {
     "data": {
      "image/png": "[encoded data removed]",
      "text/plain": [
       "<Figure size 432x288 with 1 Axes>"
      ]
     },
     "metadata": {
      "needs_background": "light"
     },
     "output_type": "display_data"
    },
    {
     "data": {
      "text/plain": [
       "<Figure size 432x288 with 0 Axes>"
      ]
     },
     "metadata": {},
     "output_type": "display_data"
    }
   ],
   "source": [
    "# Generate a line plot of tumor volume vs. time point for a mouse treated with Capomulin\n",
    "\n",
    "subject = cleaned.loc[cleaned['Mouse ID'] == 'l509',:]\n",
    "x = subject['Timepoint']\n",
    "y = subject['Tumor Volume (mm3)']\n",
    "\n",
    "fig4, chart4 = plt.subplots()\n",
    "plt.title(f\"Subject ID l509's Tumor Volume With The Drug Capomulin\", fontweight='bold')\n",
    "plt.plot(x,y, linewidth=2, markersize=15, marker ='o', color='blue')\n",
    "plt.xlabel('Timepoint (Days)', fontweight='bold')\n",
    "plt.ylabel('Tumor Volume (mm3)', fontweight='bold')\n",
    "\n",
    "plt.tight_layout()\n",
    "plt.show()\n",
    "\n",
    "plt.savefig('/users/menard/desktop/Pymaceuticals-Challenge/Images/Individual Mouse Tumor Volume.png', bbox_incehs='tight')"
   ]
  },
  {
   "cell_type": "code",
   "execution_count": 20,
   "metadata": {},
   "outputs": [
    {
     "data": {
      "text/plain": [
       "Text(0, 0.5, 'Averag Tumor Volume (mm3)')"
      ]
     },
     "execution_count": 20,
     "metadata": {},
     "output_type": "execute_result"
    },
    {
     "data": {
      "image/png": "[encoded data removed]",
      "text/plain": [
       "<Figure size 432x288 with 1 Axes>"
      ]
     },
     "metadata": {
      "needs_background": "light"
     },
     "output_type": "display_data"
    }
   ],
   "source": [
    "# Generate a scatter plot of average tumor volume vs. mouse weight for the Capomulin regimen\n",
    "\n",
    "fig1, ax1 = plt.subplots()\n",
    "capomulindrug = data.loc[data['Drug Regimen'] == 'Capomulin']\n",
    "avgcap =capomulindrug.groupby(['Mouse ID']).mean()\n",
    "\n",
    "marker_size=15\n",
    "plt.scatter(avgcap['Weight (g)'],avgcap['Tumor Volume (mm3)'], color=\"blue\")\n",
    "plt.title('Mouse Weight Versus Average Tumor Volume')\n",
    "plt.xlabel('Weight (g)',fontsize =14)\n",
    "plt.ylabel('Averag Tumor Volume (mm3)')"
   ]
  },
  {
   "cell_type": "markdown",
   "metadata": {},
   "source": [
    "## Correlation and Regression"
   ]
  },
  {
   "cell_type": "code",
   "execution_count": 21,
   "metadata": {},
   "outputs": [
    {
     "data": {
      "image/png": "[encoded data removed]",
      "text/plain": [
       "<Figure size 432x288 with 1 Axes>"
      ]
     },
     "metadata": {
      "needs_background": "light"
     },
     "output_type": "display_data"
    },
    {
     "name": "stdout",
     "output_type": "stream",
     "text": [
      "The correlation between mouse weight and the average tumor volume is 0.84\n"
     ]
    }
   ],
   "source": [
    "# Calculate the correlation coefficient and linear regression model \n",
    "# for mouse weight and average tumor volume for the Capomulin regimen\n",
    "\n",
    "fig6, chart6 = plt.subplots()\n",
    "(slope, intercept, r, p, stde) = st.linregress(avgcap['Weight (g)'],avgcap['Tumor Volume (mm3)'])\n",
    "r = avgcap['Weight (g)']*slope + intercept\n",
    "line = f\"y={round(slope,2)} x + {round(intercept,2)}\"\n",
    "\n",
    "plt.scatter(avgcap[\"Weight (g)\"],avgcap[\"Tumor Volume (mm3)\"],color='purple')\n",
    "plt.plot(avgcap[\"Weight (g)\"], r, color='pink')\n",
    "plt.annotate(line,(20,36), fontsize=10)\n",
    "plt.xlabel(\"Weight (g)\")\n",
    "plt.ylabel(\"Tumor Volume (mm3)\")\n",
    "plt.title(\"Weight vs Tumor Volume for Capomulin\")\n",
    "\n",
    "plt.show()\n",
    "\n",
    "correlation = st.pearsonr(avgcap['Weight (g)'],avgcap['Tumor Volume (mm3)'])\n",
    "print(f\"The correlation between mouse weight and the average tumor volume is {round(correlation[0],2)}\")"
   ]
  },
  {
   "cell_type": "code",
   "execution_count": null,
   "metadata": {},
   "outputs": [],
   "source": []
  }
 ],
 "metadata": {
  "anaconda-cloud": {},
  "kernelspec": {
   "display_name": "PythonData",
   "language": "python",
   "name": "pythondata"
  },
  "language_info": {
   "codemirror_mode": {
    "name": "ipython",
    "version": 3
   },
   "file_extension": ".py",
   "mimetype": "text/x-python",
   "name": "python",
   "nbconvert_exporter": "python",
   "pygments_lexer": "ipython3",
   "version": "3.7.7"
  }
 },
 "nbformat": 4,
 "nbformat_minor": 4
}
